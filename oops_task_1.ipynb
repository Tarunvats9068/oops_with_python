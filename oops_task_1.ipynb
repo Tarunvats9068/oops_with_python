{
  "nbformat": 4,
  "nbformat_minor": 0,
  "metadata": {
    "colab": {
      "name": "oops task 1",
      "provenance": [],
      "collapsed_sections": [],
      "include_colab_link": true
    },
    "kernelspec": {
      "display_name": "Python 3",
      "name": "python3"
    }
  },
  "cells": [
    {
      "cell_type": "markdown",
      "metadata": {
        "id": "view-in-github",
        "colab_type": "text"
      },
      "source": [
        "<a href=\"https://colab.research.google.com/github/Tarunvats9068/oops_with_python/blob/main/oops_task_1.ipynb\" target=\"_parent\"><img src=\"https://colab.research.google.com/assets/colab-badge.svg\" alt=\"Open In Colab\"/></a>"
      ]
    },
    {
      "cell_type": "markdown",
      "metadata": {
        "id": "y9Di2a_S8rVX"
      },
      "source": [
        "Oops task 1 by using python  \n",
        "Tarun Sharma \n",
        "20bcs133"
      ]
    },
    {
      "cell_type": "markdown",
      "metadata": {
        "id": "kod2knTO85CE"
      },
      "source": [
        "problem no.1  leap year one"
      ]
    },
    {
      "cell_type": "code",
      "metadata": {
        "colab": {
          "base_uri": "https://localhost:8080/"
        },
        "id": "FRYUZWNU8gw1",
        "outputId": "173c7991-6419-41a9-b237-6b1289e8e2a5"
      },
      "source": [
        "def leapyear(year):\n",
        "  if((year%4!=0) & (year%100!=0) & (year%400!=0)):\n",
        "     print(\"entered year is  not a leap year\",year)\n",
        "  else:\n",
        "     print(\"Entered year is  a leap year\",year)\n",
        "  \n",
        "year=int(input(\"entered a year to check that whether it ia a leap year or not\"))\n",
        "leapyear(year)"
      ],
      "execution_count": null,
      "outputs": [
        {
          "output_type": "stream",
          "name": "stdout",
          "text": [
            "entered a year to check that whether it ia a leap year or not2013\n",
            "entered year is  not a leap year 2013\n"
          ]
        }
      ]
    },
    {
      "cell_type": "markdown",
      "metadata": {
        "id": "zS2e_4QYAx3Z"
      },
      "source": [
        "problem no. 2 "
      ]
    },
    {
      "cell_type": "code",
      "metadata": {
        "colab": {
          "base_uri": "https://localhost:8080/"
        },
        "id": "V9K7aS70A1uR",
        "outputId": "1ab5e4ef-4176-4e5e-fdf9-b1388bcb0098"
      },
      "source": [
        "def oddeven(num):\n",
        "  if(num%2!=0):\n",
        "    print(\"Weird \\n\")\n",
        "  elif(2<=num<=5):\n",
        "    print(\"Not Weird \\n\")\n",
        "  elif(6<=num<=20):\n",
        "    print(\"Weird \\n\")\n",
        "  elif(20<num):\n",
        "    print(\"Weird \\n\")\n",
        "num=int(input(\"Entered the number\"))\n",
        "oddeven(num)\n"
      ],
      "execution_count": null,
      "outputs": [
        {
          "output_type": "stream",
          "name": "stdout",
          "text": [
            "Entered the number3\n",
            "Weird \n",
            "\n"
          ]
        }
      ]
    },
    {
      "cell_type": "markdown",
      "metadata": {
        "id": "faPsa6zPHTom"
      },
      "source": [
        "problem no.3 "
      ]
    },
    {
      "cell_type": "code",
      "metadata": {
        "colab": {
          "base_uri": "https://localhost:8080/"
        },
        "id": "DhI5rBMCHY0H",
        "outputId": "0422420e-96b0-43c4-a85b-7e67aaeb328e"
      },
      "source": [
        "n = int(input(\"Enter the number of Guests: \"))\n",
        "guests = []\n",
        "\n",
        "for i in range(0, n):\n",
        "  name = str(input(\"Enter the name of Guests: \"))\n",
        "  guests.append(name)\n",
        "print(\"Guests are: \", guests)\n",
        "if(n%2==0):\n",
        "  for k in range( int((n)/2) , n):\n",
        "    print(\"\\nFashionable late persons are: \", guests[k])\n",
        "elif(n%2 != 0):\n",
        "  for k in range( int((n-1)/2) , n-1):\n",
        "    print(\"\\nFashionable late persons are: \", guests[k])"
      ],
      "execution_count": null,
      "outputs": [
        {
          "output_type": "stream",
          "name": "stdout",
          "text": [
            "Enter the number of Guests: 6\n",
            "Enter the name of Guests: tar\n",
            "Enter the name of Guests: ava\n",
            "Enter the name of Guests: dj\n",
            "Enter the name of Guests: dj\n",
            "Enter the name of Guests: jds\n",
            "Enter the name of Guests: sfs\n",
            "Guests are:  ['tar', 'ava', 'dj', 'dj', 'jds', 'sfs']\n",
            "\n",
            "Fashionable late persons are:  dj\n",
            "\n",
            "Fashionable late persons are:  jds\n",
            "\n",
            "Fashionable late persons are:  sfs\n"
          ]
        }
      ]
    },
    {
      "cell_type": "markdown",
      "metadata": {
        "id": "Oz9hMZk5KDej"
      },
      "source": [
        "Problem no. 4   search function"
      ]
    },
    {
      "cell_type": "code",
      "metadata": {
        "id": "5pT3CHTxKFg6"
      },
      "source": [
        "\n",
        "\n",
        "def search_for_keyword(doc_list, keyword):\n",
        "  req_list = []\n",
        "  for doc in doc_list:\n",
        "    duplicate = doc\n",
        "    duplicate.replace(',','')\n",
        "    duplicate.replace('.','')\n",
        "    duplicate_list = duplicate.split()\n",
        "    for word in duplicate_list:\n",
        "      if word.lower() == keyword.lower():\n",
        "        req_list.append(doc)\n",
        "  \n",
        "  return req_list\n",
        "\n",
        "doc_list = [\"The Learn Python Challenge Rohit.\", \"They bought a car\", \"bangalore\"]\n",
        "\n",
        "keyword = input('Enter the keyword: ')\n",
        "required_list= search_for_keyword(doc_list, keyword)\n",
        "print(req_list)\n",
        "\n",
        "keyword = input('Enter the keyword: ')\n",
        "required_list = search_for_keyword(doc_list, keyword)\n",
        "print(req_list)\n",
        "\n",
        "keyword = input('Enter the keyword: ')\n",
        "required_list = search_for_keyword(doc_list, keyword)\n",
        "print(req_list)"
      ],
      "execution_count": null,
      "outputs": []
    },
    {
      "cell_type": "markdown",
      "metadata": {
        "id": "AS0hkme2G453"
      },
      "source": [
        "problem no. 5 calculate the gp\n"
      ]
    },
    {
      "cell_type": "code",
      "metadata": {
        "colab": {
          "base_uri": "https://localhost:8080/"
        },
        "id": "A-974D4tG_Cx",
        "outputId": "5e89d84b-72a7-4777-d461-7f7508b8b4eb"
      },
      "source": [
        "def gp(bp):\n",
        "  DA = bp*.4\n",
        "  HRA = bp*.2\n",
        "  GP = bp+DA+HRA\n",
        "  return GP\n",
        "bp=int(input(\"Entered the basic pay of the employ \"))\n",
        "salary = gp(bp)\n",
        "print(\"The GP of the employ is \",salary)\n",
        "\n",
        " \n"
      ],
      "execution_count": null,
      "outputs": [
        {
          "output_type": "stream",
          "name": "stdout",
          "text": [
            "Entered the basic pay of the employ 12000\n",
            "The GP of the employ is 19200.0\n"
          ]
        }
      ]
    }
  ]
}