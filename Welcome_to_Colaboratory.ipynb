{
  "nbformat": 4,
  "nbformat_minor": 0,
  "metadata": {
    "colab": {
      "name": "Welcome to Colaboratory",
      "provenance": [],
      "collapsed_sections": [],
      "include_colab_link": true
    },
    "kernelspec": {
      "display_name": "Python 3",
      "name": "python3"
    }
  },
  "cells": [
    {
      "cell_type": "markdown",
      "metadata": {
        "id": "view-in-github",
        "colab_type": "text"
      },
      "source": [
        "<a href=\"https://colab.research.google.com/github/Tarunvats9068/oops_with_python/blob/main/Welcome_to_Colaboratory.ipynb\" target=\"_parent\"><img src=\"https://colab.research.google.com/assets/colab-badge.svg\" alt=\"Open In Colab\"/></a>"
      ]
    },
    {
      "cell_type": "markdown",
      "metadata": {
        "id": "y9Di2a_S8rVX"
      },
      "source": [
        "Oops task 1 by using python  \n",
        "Tarun Sharma \n",
        "20bcs133"
      ]
    },
    {
      "cell_type": "markdown",
      "metadata": {
        "id": "kod2knTO85CE"
      },
      "source": [
        "problem no.1  leap year one"
      ]
    },
    {
      "cell_type": "code",
      "metadata": {
        "id": "FRYUZWNU8gw1",
        "outputId": "173c7991-6419-41a9-b237-6b1289e8e2a5",
        "colab": {
          "base_uri": "https://localhost:8080/"
        }
      },
      "source": [
        "def leapyear(year):\n",
        "  if((year%4!=0) & (year%100!=0) & (year%400!=0)):\n",
        "     print(\"entered year is  not a leap year\",year)\n",
        "  else:\n",
        "     print(\"Entered year is  a leap year\",year)\n",
        "  \n",
        "year=int(input(\"entered a year to check that whether it ia a leap year or not\"))\n",
        "leapyear(year)"
      ],
      "execution_count": 21,
      "outputs": [
        {
          "output_type": "stream",
          "name": "stdout",
          "text": [
            "entered a year to check that whether it ia a leap year or not2013\n",
            "entered year is  not a leap year 2013\n"
          ]
        }
      ]
    },
    {
      "cell_type": "markdown",
      "metadata": {
        "id": "zS2e_4QYAx3Z"
      },
      "source": [
        "problem no. 2 "
      ]
    },
    {
      "cell_type": "code",
      "metadata": {
        "id": "V9K7aS70A1uR",
        "outputId": "1ab5e4ef-4176-4e5e-fdf9-b1388bcb0098",
        "colab": {
          "base_uri": "https://localhost:8080/"
        }
      },
      "source": [
        "def oddeven(num):\n",
        "  if(num%2!=0):\n",
        "    print(\"Weird \\n\")\n",
        "  elif(2<=num<=5):\n",
        "    print(\"Not Weird \\n\")\n",
        "  elif(6<=num<=20):\n",
        "    print(\"Weird \\n\")\n",
        "  elif(20<num):\n",
        "    print(\"Weird \\n\")\n",
        "num=int(input(\"Entered the number\"))\n",
        "oddeven(num)\n"
      ],
      "execution_count": 28,
      "outputs": [
        {
          "output_type": "stream",
          "name": "stdout",
          "text": [
            "Entered the number3\n",
            "Weird \n",
            "\n"
          ]
        }
      ]
    }
  ]
}