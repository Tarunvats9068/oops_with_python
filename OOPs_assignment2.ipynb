{
  "nbformat": 4,
  "nbformat_minor": 0,
  "metadata": {
    "colab": {
      "name": "OOPs assignment2.ipynb",
      "private_outputs": true,
      "provenance": [],
      "authorship_tag": "ABX9TyOOJDTQFucDZenCQJGpbok1"
    },
    "kernelspec": {
      "name": "python3",
      "display_name": "Python 3"
    },
    "language_info": {
      "name": "python"
    }
  },
  "cells": [
    {
      "cell_type": "markdown",
      "metadata": {
        "id": "0Vx6s_1ODREi"
      },
      "source": [
        "**Tarun sharma\n",
        "20bcs133\n",
        " oops assignment** \n",
        "\n"
      ]
    },
    {
      "cell_type": "markdown",
      "metadata": {
        "id": "sUT5S3ZPDvox"
      },
      "source": [
        "problem no. 1"
      ]
    },
    {
      "cell_type": "code",
      "metadata": {
        "id": "dzkydMmDDzkg"
      },
      "source": [
        "class Circle:\n",
        "  def __init__(self,radius):\n",
        "      self.radius=radius\n",
        "  \n",
        "  def area(self):\n",
        "    ar=3.14*(self.radius)**2\n",
        "    return ar\n",
        "  def perimeter(self):\n",
        "    peri=2*3.14*self.radius\n",
        "    return peri\n",
        "A=Circle(5)\n",
        "print(A.area(),A.perimeter())"
      ],
      "execution_count": null,
      "outputs": []
    },
    {
      "cell_type": "markdown",
      "metadata": {
        "id": "_t98kGRZSFuy"
      },
      "source": [
        "problem no.2"
      ]
    },
    {
      "cell_type": "code",
      "metadata": {
        "id": "w-zlpG03SH3M"
      },
      "source": [
        "class Faculty:\n",
        "  def __init__(self):\n",
        "    self.name=0\n",
        "    self.emp_id=0\n",
        "    self.branch=0\n",
        "    self.salary=0\n",
        "  \n",
        "  def takedetails(self,x):\n",
        "    print(\"Faculty\",x)\n",
        "    self.name=input(\"Enter your name please\")\n",
        "    self.emp_id=input(\"Enter your Employ id\")\n",
        "    self.branch=input(\"Entered your branch \")\n",
        "    self.salary=int(input(\"Entered your salary\"))\n",
        "     \n",
        "  def get(self,j):\n",
        "    print('Details of faculty {}\\nName = {}  \\nEmp_id = {} \\nBranch = {} \\nSalary = {}'.format(j,self.name,self.emp_id,self.branch,self.salary))\n",
        "for x in range(0,5):   \n",
        "     t1=Faculty()\n",
        "     t1.takedetails(x+1)\n",
        "     print(t1.get(x+1))"
      ],
      "execution_count": null,
      "outputs": []
    },
    {
      "cell_type": "markdown",
      "metadata": {
        "id": "SKOLRESZVUF-"
      },
      "source": [
        "problem no.3"
      ]
    },
    {
      "cell_type": "code",
      "metadata": {
        "id": "Pnju_cCaVXS3"
      },
      "source": [
        "class Bank:\n",
        "  def __init__(self,Account_no,Name,Amount=0):\n",
        "    self.Account_no=Account_no\n",
        "    self.Name=Name\n",
        "    self.Amount=Amount\n",
        "  def Deposit(self):\n",
        "    cash=int(input(\"Entered the amount to deposit\"))\n",
        "    self.Amount=cash\n",
        "    print(\"Amount = {} is succesfully deposited\\n\".format(self.Amount))\n",
        "  def Withdraw(self):\n",
        "    debit=int(input(\"Entered the amount to withdraw\"))\n",
        "    if(self.Amount>debit):\n",
        "      self.Amount=self.Amount-debit\n",
        "      print(\"your account balance after withdraw = {} \\n\".format(self.Amount))\n",
        "    else:\n",
        "      print(\"sorry your account balance is lower than withdraw amount\")\n",
        "  def checkbalance(self):\n",
        "    print(\"your account balance of {} is {}\\n\".format(self.Name,self.Amount))\n",
        "  def details(self):\n",
        "    print(\"Name = {}\\nAccount no. = {}\\nAmount = {}\".format(self.Name,self.Account_no,self.Amount))\n",
        "a1 = Bank(\"12332\",\"Tarun Sharma\",0)\n",
        "a1.Deposit()\n",
        "a1.Withdraw()\n",
        "a1.details()\n",
        "\n",
        "\n",
        "   \n",
        "\n",
        "\n"
      ],
      "execution_count": null,
      "outputs": []
    },
    {
      "cell_type": "markdown",
      "metadata": {
        "id": "ru04-amGmYIl"
      },
      "source": [
        "problem no. 4"
      ]
    },
    {
      "cell_type": "code",
      "metadata": {
        "id": "jXgl9KklmduA"
      },
      "source": [
        "class Student:\n",
        "  \n",
        "  def __init__(self,Name,USN):\n",
        "    self.Name=Name\n",
        "    self.USN=USN\n",
        "    self.Marks=0\n",
        "  def marks(self):8\n",
        "\n",
        "    self.Marks=[int(input(\"Entered the marks of sub 1\")),\n",
        "             int(input(\"Entered the marks of sub 2\")),\n",
        "             int(input(\"Entered the marks of sub 3\"))]\n",
        "\n",
        "  def display(self):\n",
        "    print(\"Name = {}\\nUSN = {}\\n\".format(self.Name,self.USN)+\"Mark of sub \",self.Marks)\n",
        "s1 = Student(\"Tarun sharma\",1224)\n",
        "s1.marks()\n",
        "s1.display()"
      ],
      "execution_count": null,
      "outputs": []
    },
    {
      "cell_type": "markdown",
      "metadata": {
        "id": "QufyFpQtd3nD"
      },
      "source": [
        "problem no.5"
      ]
    },
    {
      "cell_type": "code",
      "metadata": {
        "id": "9dhVx2Bld89K"
      },
      "source": [
        "import sqlite3\n",
        "conn = sqlite3.connect(':memory:')\n",
        "c = conn.cursor()\n",
        "c.execute(\"\"\"CREATE TABLE patient(name text,date_add text,symptoms text,oxygen integer,date_dis text)\"\"\")\n",
        "#nop = 0\n",
        "class Patient:\n",
        "  \n",
        "  def __init__(self,name,date_add,symptoms,oxygen,date_dis):\n",
        "    self.name=name\n",
        "    self.date_add=date_add\n",
        "    self.symptoms=symptoms\n",
        "    self.date_dis=date_dis\n",
        "    self.oxygen=oxygen\n",
        "  def getdetails(self):\n",
        "    print(\"Name = {} \\nDate of Addmission = {} \\nSymptoms = {} \\nOxygen = {} \\nDate of Discharge = {}\".format(self.name,self.date_add,self.symptoms,self.oxygen,self.date_dis))\n",
        "  def sendinfo(self):\n",
        "    c.execute(\"INSERT INTO patient VALUES (?,?,?,?,?)\",(self.name,self.date_add,self.symptoms,self.oxygen,self.date_dis))\n",
        "    conn.commit()\n",
        "  def o2_req(self):\n",
        "    if(self.oxygen<90):\n",
        "      print(\"Need to Puton the on Oxygen Support\")\n",
        "    else:\n",
        "      print(\"Move to the gernal ward\")\n",
        "def search(oxy):\n",
        "  c.execute(\"SELECT * FROM patient WHERE oxygen=?\",(oxy,))\n",
        "  print(c.fetchall())  \n",
        "  conn.commit()\n",
        "def sdate(date):\n",
        "  c.execute(\"SELECT * FROM patient WHERE date_dis=?\",(date,))\n",
        "  print(c.fetchall())\n",
        "  \n",
        "  conn.commit()\n",
        "def discharge(Name):\n",
        "  c.execute(\"DELETE FROM patient WHERE name=?\",(Name,))\n",
        "  conn.commit()\n",
        "#def no_patient():\n",
        "  #print(no)\n",
        "\n",
        "\n",
        "p1 = Patient(\"hello\",\"27.3.19\",\"cough breathless\",\"1200\",\"29.3.19\")\n",
        "p2 = Patient(\"aman\",\"24.3.19\",\"cough breathless\",\"1250\",\"27.4.19\")\n",
        "p3 = Patient(\"anmol\",\"2.3.19\",\"cough breathless\",\"1220\",\"27.4.19\")\n",
        "p4 = Patient(\"anand\",\"21.3.19\",\"cough breathless\",\"1250\",\"27.4.19\")\n",
        "p1.sendinfo()\n",
        "p2.sendinfo()\n",
        "p3.sendinfo()\n",
        "p4.sendinfo()\n",
        "sdate(\"27.4.19\")\n",
        "discharge('anand')\n",
        "sdate(\"27.4.19\")\n",
        "search(1250)\n",
        "conn.close()\n",
        "\n"
      ],
      "execution_count": null,
      "outputs": []
    },
    {
      "cell_type": "markdown",
      "metadata": {
        "id": "-qkmSfZo-n5m"
      },
      "source": [
        "problem no.6 "
      ]
    },
    {
      "cell_type": "code",
      "metadata": {
        "id": "0nIqxf-J-qhn"
      },
      "source": [
        "class Time:\n",
        "  def __init__(self,Hour,Minutes,Seconds):\n",
        "    self.Hour=Hour\n",
        "    self.Minutes=Minutes\n",
        "    self.Seconds=Seconds\n",
        "  def __init__(self,Hour,Minutes,Seconds):\n",
        "    self.Hour=Hour\n",
        "    self.Minutes=Minutes\n",
        "    self.Seconds=Seconds\n",
        "\n",
        "  def show(self):\n",
        "    print(\"{}:{}:{}\".format(self.Hour,self.Minutes,self.Seconds))\n",
        "t1=Time(12,34,56)\n",
        "t1.show()"
      ],
      "execution_count": null,
      "outputs": []
    },
    {
      "cell_type": "markdown",
      "metadata": {
        "id": "5jnJZcHemYDF"
      },
      "source": [
        "problem no. 7\n"
      ]
    },
    {
      "cell_type": "code",
      "metadata": {
        "id": "1OY8Ku2c4ViG"
      },
      "source": [
        "class Student:\n",
        "  def __init__(self,Name,Roll_no,Age):\n",
        "    self.Name=Name\n",
        "    self.Roll_no=Roll_no\n",
        "    self.Age=Age\n",
        "s1=Student(\"Rahul\",21,33)\n",
        "s2=Student(\"Rohit\",22,74)\n",
        "def comp(a1,a2):\n",
        "  if(a1==a2):\n",
        "    print(\"Ages are not equal\")\n",
        "  else:\n",
        "    print(\"Ages are not equal\")\n",
        "comp(s1.Age,s2.Age)"
      ],
      "execution_count": null,
      "outputs": []
    },
    {
      "cell_type": "markdown",
      "metadata": {
        "id": "D1dn9qVhBn7I"
      },
      "source": [
        "problem no. 8"
      ]
    },
    {
      "cell_type": "code",
      "metadata": {
        "id": "aPeLQA1cBq5f"
      },
      "source": [
        "conn =  sqlite3.connect('student1.db')\n",
        "stu = conn.cursor()\n",
        "#stu.execute(\"\"\"CREATE TABLE student(name text,usn integer,sem text,institue_details text)\"\"\")\n",
        "\n",
        "\n",
        "class Students:\n",
        "  def __init__(self,name,usn):\n",
        "    self.sem=1\n",
        "    self.institute_details=0\n",
        "    self.name=name\n",
        "    self.usn=usn\n",
        "  def create(self):\n",
        "    stu.execute(\"INSERT INTO student VALUES (?,?,?,?)\",(self.name,self.usn,self.institute_details,self.sem))\n",
        "    conn.commit()\n",
        "  def getdetails(self):\n",
        "    print(\"Name = {} \\nUSN = {} \\nSEM = {} \\nINSTITUTE_DEATILS = {} \\n\".format(self.name,self.usn,self.sem,self.institute_details))\n",
        "  def update(self):\n",
        "    self.sem=input(\" Enter the sem details if the student\")\n",
        "    self.institute_details=input(\" Enter the institute details \")\n",
        "  def info(self,usn):\n",
        "    stu.execute(\"SELECT * FROM student WHERE  usn=?\",(usn,))\n",
        "    print(stu.fetchall())\n",
        "    conn.commit()\n",
        "\n",
        "#s1=Students(\"vinayak \",88295)\n",
        "#s1.update()\n",
        "#s1.getdetails()\n",
        "#s1.create()\n",
        "s1.info(88294)\n",
        "s1.info(88293)\n",
        "s1.info(88295)"
      ],
      "execution_count": null,
      "outputs": []
    },
    {
      "cell_type": "markdown",
      "metadata": {
        "id": "-Prak5s0LHIJ"
      },
      "source": [
        "problem no. 9"
      ]
    },
    {
      "cell_type": "code",
      "metadata": {
        "id": "r0Fe75iCLMjj"
      },
      "source": [
        "class Students:\n",
        "  def __init__(self,Name,Roll_no,Sem):\n",
        "    self.Name=Name\n",
        "    self.Roll_no=Roll_no\n",
        "    self.Sem=Sem\n",
        "  def details(self):\n",
        "    print(\"Name = {}\\nRoll_no = {}\\nSem = {}\".format(self.Name,self.Roll_no,self.Sem))\n",
        "\n",
        "  def check(self):\n",
        "    laptop=input(\"have you a laptop type YES OR NO \")\n",
        "    if(laptop==\"YES\" or \"yes\"):\n",
        "      class Laptop:     \n",
        "        def cpu(self):\n",
        "          print(\"cpu with i7 processor\")\n",
        "        def display(self):\n",
        "          print(\"display are fully touched\")\n",
        "      L1=Laptop()\n",
        "      L1.cpu()\n",
        "      L1.display()\n",
        "    else:\n",
        "      print(\"he does not have a laptop\")\n",
        "s1= Students(\"tarun sharma\",\"20bcs133\",2)\n",
        "s1.details()\n",
        "s1.check()\n",
        "    "
      ],
      "execution_count": null,
      "outputs": []
    }
  ]
}