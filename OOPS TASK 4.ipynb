{
  "nbformat": 4,
  "nbformat_minor": 0,
  "metadata": {
    "colab": {
      "name": "Untitled5.ipynb",
      "private_outputs": true,
      "provenance": [],
      "authorship_tag": "ABX9TyM3OKakC2RXeNeMc4N2owFg",
      "include_colab_link": true
    },
    "kernelspec": {
      "name": "python3",
      "display_name": "Python 3"
    },
    "language_info": {
      "name": "python"
    }
  },
  "cells": [
    {
      "cell_type": "markdown",
      "metadata": {
        "id": "view-in-github",
        "colab_type": "text"
      },
      "source": [
        "<a href=\"https://colab.research.google.com/github/Tarunvats9068/oops_with_python/blob/main/OOPS%20TASK%204.ipynb\" target=\"_parent\"><img src=\"https://colab.research.google.com/assets/colab-badge.svg\" alt=\"Open In Colab\"/></a>"
      ]
    },
    {
      "cell_type": "markdown",
      "metadata": {
        "id": "R5F-dTWY7m5k"
      },
      "source": [
        "**TARUN SHARMA**\n",
        "**20BCS133**\n",
        "**OOPS TASK 4**\n"
      ]
    },
    {
      "cell_type": "markdown",
      "metadata": {
        "id": "ZPIxiGJR77M_"
      },
      "source": [
        "**QUESTION 1**"
      ]
    },
    {
      "cell_type": "code",
      "metadata": {
        "id": "w46nsqBh7Q6H"
      },
      "source": [
        "class node:\n",
        "  def __init__(self,c):\n",
        "    self.c = c\n",
        "    self.top = 0;\n",
        "    self.stack = []\n",
        "\n",
        "class DerivedStack(node):\n",
        "  def _init__(self,c):\n",
        "    node.__init__(self,c)\n",
        "\n",
        "    \n",
        "  def push(self,value):\n",
        "    if(self.top==self.c):\n",
        "      print(\"Stack is full \")\n",
        "    else:\n",
        "      self.stack.append(value)\n",
        "      print(\"--> {} is the stored in the stack \".format(self.stack[self.top]))\n",
        "      self.top+=1\n",
        "  def pop(self):\n",
        "    if(self.top==0):\n",
        "      print(\"Stack is empty \")\n",
        "    else:\n",
        "      self.top-=1\n",
        "      print(\"--> {} is deleted from the stack \".format(self.stack[self.top]))\n",
        "      \n",
        "  def display(self):\n",
        "    for x in range(self.top,0,-1):\n",
        "      print(\" {} \\n\".format(x))\n",
        "  def __del__(self):\n",
        "     print(\"Destructor is called \")\n",
        "st = DerivedStack(5)\n",
        "st.push(1)\n",
        "st.push(2)\n",
        "st.push(3)\n",
        "st.push(4)\n",
        "st.push(5)\n",
        "st.display()\n",
        "st.pop()\n",
        "st.pop()\n",
        "st.display()\n",
        "del st\n",
        "\n",
        "\n",
        "\n",
        "\n"
      ],
      "execution_count": null,
      "outputs": []
    },
    {
      "cell_type": "markdown",
      "metadata": {
        "id": "Ocfhbqwa8Xmf"
      },
      "source": [
        "**Question  2**"
      ]
    },
    {
      "cell_type": "code",
      "metadata": {
        "id": "KGNlVL3_8Z1P"
      },
      "source": [
        "class rectangle:\n",
        "  def __init__(self,l,b):\n",
        "    self.l= l\n",
        "    self.b= b\n",
        "  def Area(self):\n",
        "    print(\"Area of the rectangle is {}\".format(self.l*self.b))\n",
        "  def Perimeter(self):\n",
        "    print(\"Area of the rectangle is {}\".format(2*(self.l+self.b)))\n",
        "  def __del__(self):\n",
        "    print(\"Destructor is called \")\n",
        "rect = rectangle(5,7)\n",
        "rect.Area()\n",
        "rect.Perimeter()\n",
        "del rect\n"
      ],
      "execution_count": null,
      "outputs": []
    },
    {
      "cell_type": "markdown",
      "metadata": {
        "id": "ToOdkxRb9xj_"
      },
      "source": [
        "**QUESTION 3**"
      ]
    },
    {
      "cell_type": "code",
      "metadata": {
        "id": "KpXGiepj9z1m"
      },
      "source": [
        "from numpy import *\n",
        "class node:\n",
        "  def __init__(self,c):\n",
        "    self.front = 0\n",
        "    self.rear = 0\n",
        "    self.c = c\n",
        "    self.queue = []\n",
        "  def enqueue(self,value):\n",
        "    if(self.rear==(self.c)):\n",
        "      print(\"Queue is full\")\n",
        "    else:\n",
        "      self.queue.append(value)\n",
        "      print(\"---> {} is stored in the queue \".format(self.queue[self.rear]))\n",
        "      self.rear+=1\n",
        "  def dequeue(self):   \n",
        "    if(self.rear==self.front):\n",
        "      print(\"Queue is empty\")\n",
        "    else:\n",
        "      print(\"---> {} is deleted  from the queue \".format(self.queue[self.front]))\n",
        "      self.front+=1\n",
        "  def dispaly(self):\n",
        "      for x in range((self.front+1),self.rear+1):\n",
        "        print(\"{} \\n\".format(x))\n",
        "  def __del__(self):\n",
        "    print(\"Destructors is called\")\n",
        "\n",
        "que = node(4)\n",
        "que.enqueue(1)\n",
        "que.enqueue(2)\n",
        "que.enqueue(3)\n",
        "que.enqueue(4)\n",
        "que.enqueue(5)\n",
        "que.dispaly()\n",
        "que.dequeue()\n",
        "que.dequeue()\n",
        "que.dispaly() \n",
        "del que     \n"
      ],
      "execution_count": null,
      "outputs": []
    }
  ]
}