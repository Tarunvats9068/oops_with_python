{
  "nbformat": 4,
  "nbformat_minor": 0,
  "metadata": {
    "colab": {
      "name": "OOP TASK 5.ipynb",
      "private_outputs": true,
      "provenance": [],
      "authorship_tag": "ABX9TyNAy9g0oK5G+AjXES2jlVA3",
      "include_colab_link": true
    },
    "kernelspec": {
      "name": "python3",
      "display_name": "Python 3"
    },
    "language_info": {
      "name": "python"
    }
  },
  "cells": [
    {
      "cell_type": "markdown",
      "metadata": {
        "id": "view-in-github",
        "colab_type": "text"
      },
      "source": [
        "<a href=\"https://colab.research.google.com/github/Tarunvats9068/oops_with_python/blob/main/OOP_TASK_5.ipynb\" target=\"_parent\"><img src=\"https://colab.research.google.com/assets/colab-badge.svg\" alt=\"Open In Colab\"/></a>"
      ]
    },
    {
      "cell_type": "markdown",
      "metadata": {
        "id": "WefFaUYaWEDv"
      },
      "source": [
        "**Question**  1 oop task 5 **TARUN** **SHARMA** **20BCS133**"
      ]
    },
    {
      "cell_type": "code",
      "metadata": {
        "id": "5dKMk4b5SAWG"
      },
      "source": [
        "from abc import ABC,abstractmethod\n",
        "from math import *\n",
        "class Shape(ABC):\n",
        "   def Area(self):\n",
        "     pass\n",
        "class Circle(Shape):\n",
        "  def __init__(self,radius):\n",
        "    self.radius = radius\n",
        "  def Area(self):\n",
        "    a = 2*pi*self.radius*self.radius\n",
        "    return a\n",
        "class Square(Shape):\n",
        "  def __init__(self,side):\n",
        "    self.side = side\n",
        "  def Area(self):\n",
        "    a = self.side*self.side\n",
        "    return a\n",
        "class Rectangle(Shape):\n",
        "  def __init__(self,length,breath):\n",
        "    self.length = length\n",
        "    self.breath = breath\n",
        "  def Area(self):\n",
        "    a = self.length*self.breath\n",
        "    return a    \n",
        "    \n",
        "rect = Rectangle(5,6)\n",
        "squa = Square(4)\n",
        "cir = Circle(3)\n",
        "print(rect.Area())\n",
        "print(squa.Area())\n",
        "print(cir.Area())"
      ],
      "execution_count": null,
      "outputs": []
    },
    {
      "cell_type": "markdown",
      "metadata": {
        "id": "X92A3HekWZRq"
      },
      "source": [
        "**QUESTION 2**"
      ]
    },
    {
      "cell_type": "code",
      "metadata": {
        "id": "Bcq03UMUWd78"
      },
      "source": [
        "class Travel:\n",
        "  def __init__(self,no_of_passengers,distance,mode):\n",
        "    self.__no_of_passengers = no_of_passengers\n",
        "    self.distance = distance\n",
        "    self.mode = mode\n",
        "    def No_of_passengers(self):\n",
        "      print(self.no_of_passengers)\n",
        "    def Distance(self):\n",
        "      print(self.distance)\n",
        "    def Mode(self):\n",
        "      print(self.mode)\n",
        "    \n",
        "class Bus(Travel):\n",
        "  def __init__(self,no_of_passengers,distance,mode):\n",
        "    Travel.__init__(self,no_of_passengers,distance,mode)\n",
        "  def trip_cost(self):\n",
        "    total = self._Travel__no_of_passengers*100\n",
        "    return total\n",
        "class Train(Travel):\n",
        "  def __init__(self,no_of_passengers,distance,mode):\n",
        "    Travel.__init__(self,no_of_passengers,distance,mode)\n",
        "  def trip_cost(self):\n",
        "    total = self._Travel__no_of_passengers*60\n",
        "    return total\n",
        "b1 = Bus(4,12,\"bus\");\n",
        "print(b1.trip_cost())\n",
        "t1 = Train(5,6,\"train\")\n",
        "print(t1.trip_cost())\n",
        "\n"
      ],
      "execution_count": null,
      "outputs": []
    },
    {
      "cell_type": "markdown",
      "metadata": {
        "id": "55ovqehTbfxo"
      },
      "source": [
        "**QUESTION 3**"
      ]
    },
    {
      "cell_type": "code",
      "metadata": {
        "id": "Szsow34vbkL5"
      },
      "source": [
        "class Car:\n",
        "  def __init__(self,model_no):\n",
        "    self.model_no = model_no\n",
        "  def Swap_model(self,c1):\n",
        "    temp = c1.model_no\n",
        "    c1.model_no = self.model_no\n",
        "    self.model_no = temp\n",
        "\n",
        "c1 =  Car(\"M2571\")\n",
        "c2 =  Car(\"BM984\")\n",
        "c1.Swap_model(c2)\n",
        "print(c1.model_no)\n",
        "print(c2.model_no)"
      ],
      "execution_count": null,
      "outputs": []
    }
  ]
}