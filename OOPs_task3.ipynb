{
  "nbformat": 4,
  "nbformat_minor": 0,
  "metadata": {
    "colab": {
      "name": "OOPs_task3.ipynb",
      "private_outputs": true,
      "provenance": [],
      "collapsed_sections": [],
      "authorship_tag": "ABX9TyMK7Z2JE+gCnkK8rYbUJ1aX",
      "include_colab_link": true
    },
    "kernelspec": {
      "name": "python3",
      "display_name": "Python 3"
    },
    "language_info": {
      "name": "python"
    }
  },
  "cells": [
    {
      "cell_type": "markdown",
      "metadata": {
        "id": "view-in-github",
        "colab_type": "text"
      },
      "source": [
        "<a href=\"https://colab.research.google.com/github/Tarunvats9068/oops_with_python/blob/main/OOPs_task3.ipynb\" target=\"_parent\"><img src=\"https://colab.research.google.com/assets/colab-badge.svg\" alt=\"Open In Colab\"/></a>"
      ]
    },
    {
      "cell_type": "markdown",
      "metadata": {
        "id": "sHBPHMjUuVkc"
      },
      "source": [
        "**TARUN SHARMA \n",
        "20BCS133\n",
        "OOPS TASK3**"
      ]
    },
    {
      "cell_type": "markdown",
      "metadata": {
        "id": "U6Rz5JvBuivr"
      },
      "source": [
        "PROBLEM NO. 1"
      ]
    },
    {
      "cell_type": "code",
      "metadata": {
        "id": "s2kaSLrxufOr"
      },
      "source": [
        "class Students:\n",
        "  def __init__(self,reg_no,sem):\n",
        "    self.name=0\n",
        "    self.reg_no=reg_no\n",
        "    self.age=0\n",
        "    self.gender=0\n",
        "    self.sem=sem\n",
        "    self.branch=0\n",
        "  def get_user(self):\n",
        "    self.name=input(\"Entered your name \\n\")\n",
        "    self.age=int(input(\"Entered your age \\n\"))\n",
        "    self.branch=input(\"Entered your branch name \\n\")\n",
        "    self.gender=input(\"Entered your gender \\n\")\n",
        "  def get_details(self):\n",
        "    print(\"Name = {} \\nReg no. = {} \\nAge = {} \\nGender = {} \\nBranch = {} \\nSem = {}\".format(self.name,self.reg_no,self.age,self.gender,self.branch,self.sem))\n",
        "\n",
        "class StudentsResultinfo(Students):\n",
        "  def __init__(self,reg_no,sem,result):\n",
        "    Students.__init__(self,reg_no,sem)\n",
        "    self.result=result\n",
        "  def getResults(self):\n",
        "    print(\"Name = {} \\nReg no. = {} \\nAge = {} \\nGender = {} \\nBranch = {} \\nSem = {} \\nResults = {}\".format(self.name,self.reg_no,self.age,self.gender,self.branch,self.sem,self.result))\n",
        "s2 = StudentsResultinfo(1234,\"2\",\"Pass With cpi = 9.3\")\n",
        "s2.get_user()\n",
        "s2.getResults()\n",
        "\n"
      ],
      "execution_count": null,
      "outputs": []
    },
    {
      "cell_type": "markdown",
      "metadata": {
        "id": "zAvtdWqmS8Bs"
      },
      "source": [
        "problem no. 2"
      ]
    },
    {
      "cell_type": "code",
      "metadata": {
        "id": "5mr036YTS-fE"
      },
      "source": [
        "class pdf:\n",
        "    def __init__(self,creator,desc,size):\n",
        "        self.creator = creator\n",
        "        self.description = desc\n",
        "        self.size = size\n",
        "\n",
        "class pictures(pdf):\n",
        "    def __init__(self,creator,desc,size,dimensions = [0,0]):\n",
        "        self.dimensions = dimensions\n",
        "        pdf.__init__(self,creator,desc,size)\n",
        "\n",
        "\n",
        "    def FileSize(self,threshold):\n",
        "        if threshold[0]*threshold[1]<self.dimensions[0]*self.dimensions[1]:\n",
        "            return True\n",
        "            print(\"File Larger than Given threshhold.\")\n",
        "        return False\n",
        "        print(\"File does not exceed given Limit.\")\n",
        "    \n",
        "    def DocDetails(self):\n",
        "        if self.dimensions != [0,0]:\n",
        "            print(f\"Dimensions: {self.dimensions[0]} X {self.dimensions[1]}\")\n",
        "\n",
        "        print(f\"File Creator: {self.creator}\")\n",
        "        print(f\"Description: {self.description}\")\n",
        "        print(f\"File Size(kb): {self.size}\")\n",
        "\n",
        "random_pic = pictures(\"Arun\",\"It was already .\",960,[2080,1080])\n",
        "random_pic.FileSize([3400,920])\n",
        "random_pic.DocDetails()\n",
        "\n",
        "random_pdf = pictures(\"Tarun\",\"It is a awsome photo.\",1080)\n",
        "random_pdf.DocDetails()"
      ],
      "execution_count": null,
      "outputs": []
    },
    {
      "cell_type": "markdown",
      "metadata": {
        "id": "N9uqQnFs1Een"
      },
      "source": [
        "problem no. 3 "
      ]
    },
    {
      "cell_type": "code",
      "metadata": {
        "id": "4D6nAeNW1GsY"
      },
      "source": [
        "class Vehicle:\n",
        "  def __init__(self,name,mileage,capacity):\n",
        "    self.name=name\n",
        "    self.mileage=mileage\n",
        "    self.capacity=capacity\n",
        "  def bus_fare(self):\n",
        "    if(self.name != \"bus\" or \"BUS\" or \"Bus\"):\n",
        "      fare = self.capacity*100\n",
        "      print(\"Fare charges is = {} \\n\".format(fare))\n",
        "  def info(self):\n",
        "    print(\" Name = {} \\nMileage = {} \\nCapacity = {}\".format(self.name,self.mileage,self.capacity))\n",
        "\n",
        "class Bus(Vehicle):\n",
        "  def __init__(self,name,mileage,capacity):\n",
        "    Vehicle.__init__(self,name,mileage,capacity)\n",
        "  def Fare(self):\n",
        "    if(self.name == \"bus\" or self.name == \"BUS\" or self.name == \"Bus\"):\n",
        "      fare = self.capacity*100 +self.capacity*10\n",
        "      print(\"Total fare is = \",format(fare))  \n",
        "    else:\n",
        "      fare = self.capacity*100\n",
        "      print(\"Fare charges is = \",format(fare))\n",
        "      \n",
        "\n",
        "p1 = Bus(\"BUS\",70,40)\n",
        "p1.Fare()\n",
        "p1.info()\n",
        "p2 = Bus(\"bike\",100,3)\n",
        "p2.Fare()\n",
        "p2.info()\n",
        "p3 = Bus(\"car\",150,2)\n",
        "p3.Fare()\n",
        "p3.info()\n",
        "\n",
        "    "
      ],
      "execution_count": null,
      "outputs": []
    }
  ]
}